{
 "cells": [
  {
   "cell_type": "markdown",
   "id": "eb44c86b-4d9b-4187-99d1-baeb34a0353f",
   "metadata": {},
   "source": [
    "# XGBoost Alternative Base Learners\n",
    "\n",
    "#### Loading Libraries"
   ]
  },
  {
   "cell_type": "code",
   "execution_count": 1,
   "id": "0c7990cb-11f1-4b93-9888-b1840e0a459e",
   "metadata": {},
   "outputs": [],
   "source": [
    "# Numerical Computing\n",
    "import numpy as np\n",
    "# Data Manipulation\n",
    "import pandas as pd\n",
    "# Data Visualization\n",
    "import matplotlib\n",
    "import matplotlib.pyplot as plt\n",
    "import seaborn as sns\n",
    "# DateTime Library\n",
    "import datetime as dt\n",
    "\n",
    "# Machine Learning Libraries\n",
    "from sklearn.model_selection import train_test_split, RandomizedSearchCV, GridSearchCV, cross_val_score, StratifiedKFold, KFold\n",
    "from sklearn.linear_model import LinearRegression, LogisticRegression, Lasso, Ridge\n",
    "from sklearn.tree import DecisionTreeClassifier\n",
    "from sklearn.tree import DecisionTreeRegressor\n",
    "from sklearn.ensemble import RandomForestRegressor, RandomForestClassifier\n",
    "from sklearn.ensemble import GradientBoostingRegressor\n",
    "from sklearn.ensemble import GradientBoostingClassifier\n",
    "\n",
    "# Datasets\n",
    "from sklearn import datasets\n",
    "from sklearn.datasets import load_diabetes\n",
    "\n",
    "# Model Metrics\n",
    "from sklearn.metrics import mean_squared_error as MSE, accuracy_score, confusion_matrix, classification_report, recall_score\n",
    "\n",
    "#Extreme Gradient Boosting\n",
    "from xgboost import XGBRegressor, XGBRFRegressor\n",
    "from xgboost import XGBClassifier, XGBRFClassifier\n",
    "\n",
    "# Warnings\n",
    "import warnings\n",
    "\n",
    "# Timing\n",
    "import time"
   ]
  },
  {
   "cell_type": "code",
   "execution_count": 2,
   "id": "75aafffc-59d7-44d4-8a96-88246389a89d",
   "metadata": {},
   "outputs": [],
   "source": [
    "warnings.filterwarnings('ignore')"
   ]
  },
  {
   "cell_type": "markdown",
   "id": "d062a9c1-3748-499a-8eeb-ca757dde88ba",
   "metadata": {},
   "source": [
    "### Applying gblinear\n",
    "\n",
    "#### Loading Diabetes Data"
   ]
  },
  {
   "cell_type": "code",
   "execution_count": 3,
   "id": "5c06b1c8-646d-42fd-b830-5d5914a59805",
   "metadata": {},
   "outputs": [],
   "source": [
    "# Assigning Target & Predictors\n",
    "X, y = load_diabetes(return_X_y=True)"
   ]
  },
  {
   "cell_type": "code",
   "execution_count": 4,
   "id": "8215913b-f2c4-45f2-8d57-f6d9c6e7d447",
   "metadata": {},
   "outputs": [],
   "source": [
    "# For consistent splits in data\n",
    "kfold = KFold(n_splits=5,\n",
    "              shuffle=True,\n",
    "              random_state=2)"
   ]
  },
  {
   "cell_type": "code",
   "execution_count": 5,
   "id": "fc686cfc-d98c-47ae-bfff-774508476c17",
   "metadata": {},
   "outputs": [],
   "source": [
    "# A function for Cross-Validation score:\n",
    "def regression_model(model):\n",
    "    scores = cross_val_score(model, X, y, scoring='neg_mean_squared_error', cv=kfold)\n",
    "    rmse = (-scores)**0.5\n",
    "    return rmse.mean()"
   ]
  },
  {
   "cell_type": "code",
   "execution_count": 6,
   "id": "8330c96e-e10f-4ed3-aa48-bc5634d2abbe",
   "metadata": {},
   "outputs": [
    {
     "data": {
      "text/plain": [
       "55.52093240797664"
      ]
     },
     "execution_count": 6,
     "metadata": {},
     "output_type": "execute_result"
    }
   ],
   "source": [
    "# Based on 'gblinear base'\n",
    "regression_model(XGBRegressor(booster='gblinear'))"
   ]
  },
  {
   "cell_type": "code",
   "execution_count": 7,
   "id": "98bc6169-26f8-4563-84ba-b598ef58df6f",
   "metadata": {},
   "outputs": [
    {
     "data": {
      "text/plain": [
       "55.50936875436023"
      ]
     },
     "execution_count": 7,
     "metadata": {},
     "output_type": "execute_result"
    }
   ],
   "source": [
    "# Checking on Absolute Value Regularization\n",
    "regression_model(LinearRegression())"
   ]
  },
  {
   "cell_type": "code",
   "execution_count": 8,
   "id": "2096b11b-ba71-4f68-9e1d-2e4b9b4d7a1f",
   "metadata": {},
   "outputs": [
    {
     "data": {
      "text/plain": [
       "62.64904114426349"
      ]
     },
     "execution_count": 8,
     "metadata": {},
     "output_type": "execute_result"
    }
   ],
   "source": [
    "# Checking on Lasso:\n",
    "regression_model(Lasso())"
   ]
  },
  {
   "cell_type": "code",
   "execution_count": 9,
   "id": "3a9b09e0-6cf5-46e8-8eeb-dc2514c8ba3c",
   "metadata": {},
   "outputs": [
    {
     "data": {
      "text/plain": [
       "58.835292374356676"
      ]
     },
     "execution_count": 9,
     "metadata": {},
     "output_type": "execute_result"
    }
   ],
   "source": [
    "# Checking on Ridge:\n",
    "regression_model(Ridge())"
   ]
  },
  {
   "cell_type": "code",
   "execution_count": 10,
   "id": "52d83986-571a-4a13-92fa-5652e3b2e02b",
   "metadata": {},
   "outputs": [
    {
     "data": {
      "text/plain": [
       "66.8205077933539"
      ]
     },
     "execution_count": 10,
     "metadata": {},
     "output_type": "execute_result"
    }
   ],
   "source": [
    "# Checking on 'gbtree base'\n",
    "regression_model(XGBRegressor(booster='gbtree'))"
   ]
  },
  {
   "cell_type": "markdown",
   "id": "dbde5f4b-c645-43e9-a5c8-33059d35103c",
   "metadata": {},
   "source": [
    "#### gblinear grid search"
   ]
  },
  {
   "cell_type": "code",
   "execution_count": 11,
   "id": "3e59b458-3d16-44fc-b939-1bccdb0e63ee",
   "metadata": {},
   "outputs": [],
   "source": [
    "# Setting a Grid-Search function\n",
    "def grid_search(params, reg=XGBRegressor(booster='gblinear')):\n",
    "    grid_reg = GridSearchCV(reg, params, scoring='neg_mean_squared_error', cv=kfold)\n",
    "    # Fitting Grid-Model\n",
    "    grid_reg.fit(X, y)\n",
    "    # Getting best params\n",
    "    best_params = grid_reg.best_params_\n",
    "    print(\"Best params: \", best_params)\n",
    "    # Getting best score\n",
    "    best_score = np.sqrt(-grid_reg.best_score_)\n",
    "    print('Best score: ', best_score)"
   ]
  },
  {
   "cell_type": "code",
   "execution_count": 12,
   "id": "9b318f8b-1f4a-41c6-8227-1d999c94b317",
   "metadata": {},
   "outputs": [
    {
     "name": "stdout",
     "output_type": "stream",
     "text": [
      "Best params:  {'reg_alpha': 0.01}\n",
      "Best score:  55.4740863429363\n"
     ]
    }
   ],
   "source": [
    "# Setting Alpha with standard range:\n",
    "grid_search(params={'reg_alpha': [0.001, 0.01, 0.1, 0.5, 1, 5]})"
   ]
  },
  {
   "cell_type": "code",
   "execution_count": 13,
   "id": "51c6a480-0335-4ace-991c-3e32ea4e58a7",
   "metadata": {},
   "outputs": [
    {
     "name": "stdout",
     "output_type": "stream",
     "text": [
      "Best params:  {'reg_lambda': 0.001}\n",
      "Best score:  56.17170031099451\n"
     ]
    }
   ],
   "source": [
    "# Setting reg_lambda\n",
    "grid_search(params={'reg_lambda': [0.001, 0.01, 0.1, 0.5, 1, 5]})"
   ]
  },
  {
   "cell_type": "code",
   "execution_count": 14,
   "id": "7898fa2e-151d-4db6-a1dc-b5ccd3360070",
   "metadata": {},
   "outputs": [
    {
     "name": "stdout",
     "output_type": "stream",
     "text": [
      "Best params:  {'feature_selector': 'shuffle'}\n",
      "Best score:  55.503338945521286\n"
     ]
    }
   ],
   "source": [
    "# Setting feature_selector with shuffle\n",
    "grid_search(params={'feature_selector': ['shuffle']})"
   ]
  },
  {
   "cell_type": "code",
   "execution_count": 15,
   "id": "f4cd4ba6-6ef2-4695-a8ad-c3bce55963be",
   "metadata": {},
   "outputs": [
    {
     "name": "stdout",
     "output_type": "stream",
     "text": [
      "Best params:  {'feature_selector': 'thrifty', 'updater': 'coord_descent'}\n",
      "Best score:  55.48980199825518\n"
     ]
    }
   ],
   "source": [
    "# Setting feature_selector with random, greedy & thrifty with updater\n",
    "grid_search(params={'feature_selector': ['random', 'greedy', 'thrifty'], 'updater': ['coord_descent']})"
   ]
  },
  {
   "cell_type": "code",
   "execution_count": 16,
   "id": "bc732dea-7b8f-4619-9df6-137b3c7f33a4",
   "metadata": {},
   "outputs": [
    {
     "name": "stdout",
     "output_type": "stream",
     "text": [
      "Best params:  {'feature_selector': 'thrifty', 'top_k': 3, 'updater': 'coord_descent'}\n",
      "Best score:  55.47154721588882\n"
     ]
    }
   ],
   "source": [
    "# Checking on tok_k\n",
    "grid_search(params={'feature_selector': ['greedy', 'thrifty'], 'updater': ['coord_descent'], 'top_k': [3, 5, 7, 9]})"
   ]
  },
  {
   "cell_type": "markdown",
   "id": "cdea1021-a95c-42b2-97c0-7f366bc2ed85",
   "metadata": {},
   "source": [
    "#### Linear Datasets"
   ]
  },
  {
   "cell_type": "code",
   "execution_count": 17,
   "id": "17492a7c-bb5e-446c-beec-c439b5b2c02e",
   "metadata": {},
   "outputs": [],
   "source": [
    "X = np.arange(1, 100)"
   ]
  },
  {
   "cell_type": "code",
   "execution_count": 18,
   "id": "d8942073-3507-459f-a174-c7b92536d976",
   "metadata": {},
   "outputs": [],
   "source": [
    "np.random.seed(2)"
   ]
  },
  {
   "cell_type": "code",
   "execution_count": 19,
   "id": "f15a0e69-55b7-437e-8f77-48d98b3f4bcf",
   "metadata": {},
   "outputs": [],
   "source": [
    "y = []"
   ]
  },
  {
   "cell_type": "code",
   "execution_count": 20,
   "id": "f9cb4354-6766-494b-bebb-ce3337e9ae5e",
   "metadata": {},
   "outputs": [],
   "source": [
    "for i in X:\n",
    "    y.append(i * np.random.uniform(-0.2, 0.2))"
   ]
  },
  {
   "cell_type": "code",
   "execution_count": 21,
   "id": "ae7d00a4-5b64-49d5-ae1d-c15d7e7a6973",
   "metadata": {},
   "outputs": [],
   "source": [
    "# Transforming into numpy array fore M.L purpose:\n",
    "y = np.array(y)"
   ]
  },
  {
   "cell_type": "code",
   "execution_count": 22,
   "id": "73797b9a-55c0-45db-bfbe-6b25cb4a6428",
   "metadata": {},
   "outputs": [],
   "source": [
    "X = X.reshape(X.shape[0], 1)\n",
    "y = y.reshape(y.shape[0], 1)"
   ]
  },
  {
   "cell_type": "code",
   "execution_count": 23,
   "id": "0d347faf-73d3-4dea-9df2-f34061b9df07",
   "metadata": {},
   "outputs": [
    {
     "data": {
      "text/plain": [
       "6.214942988206784"
      ]
     },
     "execution_count": 23,
     "metadata": {},
     "output_type": "execute_result"
    }
   ],
   "source": [
    "# Running a regression model on 'gblinear':\n",
    "regression_model(XGBRegressor(booster='gblinear', objetive='reg:squarederror'))"
   ]
  },
  {
   "cell_type": "code",
   "execution_count": 24,
   "id": "e7c9ad9a-0616-4738-a851-94488da38a88",
   "metadata": {},
   "outputs": [
    {
     "data": {
      "text/plain": [
       "9.320187242566508"
      ]
     },
     "execution_count": 24,
     "metadata": {},
     "output_type": "execute_result"
    }
   ],
   "source": [
    "# Now, running a regression model on 'gbtree':\n",
    "regression_model(XGBRegressor(booster='gbtree', objetive='reg:squarederror'))"
   ]
  },
  {
   "cell_type": "code",
   "execution_count": 25,
   "id": "dd7c421b-d492-462a-88b6-225c91db214f",
   "metadata": {},
   "outputs": [
    {
     "data": {
      "text/plain": [
       "6.214962315808842"
      ]
     },
     "execution_count": 25,
     "metadata": {},
     "output_type": "execute_result"
    }
   ],
   "source": [
    "# Running on standard Linear regression model:\n",
    "regression_model(LinearRegression())"
   ]
  },
  {
   "cell_type": "markdown",
   "id": "16622be4-b45c-4775-8730-1ff5be650497",
   "metadata": {},
   "source": [
    "## Comparing DART\n",
    "\n",
    "#### DART with XGBRegressor"
   ]
  },
  {
   "cell_type": "code",
   "execution_count": 26,
   "id": "5de21fca-5362-4604-bbdf-57a5153ee841",
   "metadata": {},
   "outputs": [],
   "source": [
    "# Loading again the diabetes dataset\n",
    "X, y = load_diabetes(return_X_y=True)"
   ]
  },
  {
   "cell_type": "code",
   "execution_count": 28,
   "id": "9cd24410-f014-4697-b1f1-fe88850ccb04",
   "metadata": {},
   "outputs": [
    {
     "data": {
      "text/plain": [
       "66.82050720095658"
      ]
     },
     "execution_count": 28,
     "metadata": {},
     "output_type": "execute_result"
    }
   ],
   "source": [
    "# Model evaluation on 'DART'\n",
    "regression_model(XGBRegressor(booster='dart', objetive='reg:squarederror'))"
   ]
  },
  {
   "cell_type": "markdown",
   "id": "eda7d66f-4041-4340-a696-7e8319a65bc9",
   "metadata": {},
   "source": [
    "#### DART with XGBClassifier"
   ]
  },
  {
   "cell_type": "code",
   "execution_count": 29,
   "id": "02601096-a605-409e-857f-6d54016bfd04",
   "metadata": {},
   "outputs": [
    {
     "data": {
      "text/html": [
       "<div>\n",
       "<style scoped>\n",
       "    .dataframe tbody tr th:only-of-type {\n",
       "        vertical-align: middle;\n",
       "    }\n",
       "\n",
       "    .dataframe tbody tr th {\n",
       "        vertical-align: top;\n",
       "    }\n",
       "\n",
       "    .dataframe thead th {\n",
       "        text-align: right;\n",
       "    }\n",
       "</style>\n",
       "<table border=\"1\" class=\"dataframe\">\n",
       "  <thead>\n",
       "    <tr style=\"text-align: right;\">\n",
       "      <th></th>\n",
       "      <th>age</th>\n",
       "      <th>fnlwgt</th>\n",
       "      <th>education-num</th>\n",
       "      <th>capital-gain</th>\n",
       "      <th>capital-loss</th>\n",
       "      <th>hours-per-week</th>\n",
       "      <th>workclass_ ?</th>\n",
       "      <th>workclass_ Federal-gov</th>\n",
       "      <th>workclass_ Local-gov</th>\n",
       "      <th>workclass_ Never-worked</th>\n",
       "      <th>...</th>\n",
       "      <th>native-country_ Puerto-Rico</th>\n",
       "      <th>native-country_ Scotland</th>\n",
       "      <th>native-country_ South</th>\n",
       "      <th>native-country_ Taiwan</th>\n",
       "      <th>native-country_ Thailand</th>\n",
       "      <th>native-country_ Trinadad&amp;Tobago</th>\n",
       "      <th>native-country_ United-States</th>\n",
       "      <th>native-country_ Vietnam</th>\n",
       "      <th>native-country_ Yugoslavia</th>\n",
       "      <th>income_ &gt;50K</th>\n",
       "    </tr>\n",
       "  </thead>\n",
       "  <tbody>\n",
       "    <tr>\n",
       "      <th>0</th>\n",
       "      <td>39</td>\n",
       "      <td>77516</td>\n",
       "      <td>13</td>\n",
       "      <td>2174</td>\n",
       "      <td>0</td>\n",
       "      <td>40</td>\n",
       "      <td>0</td>\n",
       "      <td>0</td>\n",
       "      <td>0</td>\n",
       "      <td>0</td>\n",
       "      <td>...</td>\n",
       "      <td>0</td>\n",
       "      <td>0</td>\n",
       "      <td>0</td>\n",
       "      <td>0</td>\n",
       "      <td>0</td>\n",
       "      <td>0</td>\n",
       "      <td>1</td>\n",
       "      <td>0</td>\n",
       "      <td>0</td>\n",
       "      <td>0</td>\n",
       "    </tr>\n",
       "    <tr>\n",
       "      <th>1</th>\n",
       "      <td>50</td>\n",
       "      <td>83311</td>\n",
       "      <td>13</td>\n",
       "      <td>0</td>\n",
       "      <td>0</td>\n",
       "      <td>13</td>\n",
       "      <td>0</td>\n",
       "      <td>0</td>\n",
       "      <td>0</td>\n",
       "      <td>0</td>\n",
       "      <td>...</td>\n",
       "      <td>0</td>\n",
       "      <td>0</td>\n",
       "      <td>0</td>\n",
       "      <td>0</td>\n",
       "      <td>0</td>\n",
       "      <td>0</td>\n",
       "      <td>1</td>\n",
       "      <td>0</td>\n",
       "      <td>0</td>\n",
       "      <td>0</td>\n",
       "    </tr>\n",
       "    <tr>\n",
       "      <th>2</th>\n",
       "      <td>38</td>\n",
       "      <td>215646</td>\n",
       "      <td>9</td>\n",
       "      <td>0</td>\n",
       "      <td>0</td>\n",
       "      <td>40</td>\n",
       "      <td>0</td>\n",
       "      <td>0</td>\n",
       "      <td>0</td>\n",
       "      <td>0</td>\n",
       "      <td>...</td>\n",
       "      <td>0</td>\n",
       "      <td>0</td>\n",
       "      <td>0</td>\n",
       "      <td>0</td>\n",
       "      <td>0</td>\n",
       "      <td>0</td>\n",
       "      <td>1</td>\n",
       "      <td>0</td>\n",
       "      <td>0</td>\n",
       "      <td>0</td>\n",
       "    </tr>\n",
       "    <tr>\n",
       "      <th>3</th>\n",
       "      <td>53</td>\n",
       "      <td>234721</td>\n",
       "      <td>7</td>\n",
       "      <td>0</td>\n",
       "      <td>0</td>\n",
       "      <td>40</td>\n",
       "      <td>0</td>\n",
       "      <td>0</td>\n",
       "      <td>0</td>\n",
       "      <td>0</td>\n",
       "      <td>...</td>\n",
       "      <td>0</td>\n",
       "      <td>0</td>\n",
       "      <td>0</td>\n",
       "      <td>0</td>\n",
       "      <td>0</td>\n",
       "      <td>0</td>\n",
       "      <td>1</td>\n",
       "      <td>0</td>\n",
       "      <td>0</td>\n",
       "      <td>0</td>\n",
       "    </tr>\n",
       "    <tr>\n",
       "      <th>4</th>\n",
       "      <td>28</td>\n",
       "      <td>338409</td>\n",
       "      <td>13</td>\n",
       "      <td>0</td>\n",
       "      <td>0</td>\n",
       "      <td>40</td>\n",
       "      <td>0</td>\n",
       "      <td>0</td>\n",
       "      <td>0</td>\n",
       "      <td>0</td>\n",
       "      <td>...</td>\n",
       "      <td>0</td>\n",
       "      <td>0</td>\n",
       "      <td>0</td>\n",
       "      <td>0</td>\n",
       "      <td>0</td>\n",
       "      <td>0</td>\n",
       "      <td>0</td>\n",
       "      <td>0</td>\n",
       "      <td>0</td>\n",
       "      <td>0</td>\n",
       "    </tr>\n",
       "  </tbody>\n",
       "</table>\n",
       "<p>5 rows × 93 columns</p>\n",
       "</div>"
      ],
      "text/plain": [
       "   age  fnlwgt  education-num  capital-gain  capital-loss  hours-per-week  \\\n",
       "0   39   77516             13          2174             0              40   \n",
       "1   50   83311             13             0             0              13   \n",
       "2   38  215646              9             0             0              40   \n",
       "3   53  234721              7             0             0              40   \n",
       "4   28  338409             13             0             0              40   \n",
       "\n",
       "   workclass_ ?  workclass_ Federal-gov  workclass_ Local-gov  \\\n",
       "0             0                       0                     0   \n",
       "1             0                       0                     0   \n",
       "2             0                       0                     0   \n",
       "3             0                       0                     0   \n",
       "4             0                       0                     0   \n",
       "\n",
       "   workclass_ Never-worked  ...  native-country_ Puerto-Rico  \\\n",
       "0                        0  ...                            0   \n",
       "1                        0  ...                            0   \n",
       "2                        0  ...                            0   \n",
       "3                        0  ...                            0   \n",
       "4                        0  ...                            0   \n",
       "\n",
       "   native-country_ Scotland  native-country_ South  native-country_ Taiwan  \\\n",
       "0                         0                      0                       0   \n",
       "1                         0                      0                       0   \n",
       "2                         0                      0                       0   \n",
       "3                         0                      0                       0   \n",
       "4                         0                      0                       0   \n",
       "\n",
       "   native-country_ Thailand  native-country_ Trinadad&Tobago  \\\n",
       "0                         0                                0   \n",
       "1                         0                                0   \n",
       "2                         0                                0   \n",
       "3                         0                                0   \n",
       "4                         0                                0   \n",
       "\n",
       "   native-country_ United-States  native-country_ Vietnam  \\\n",
       "0                              1                        0   \n",
       "1                              1                        0   \n",
       "2                              1                        0   \n",
       "3                              1                        0   \n",
       "4                              0                        0   \n",
       "\n",
       "   native-country_ Yugoslavia  income_ >50K  \n",
       "0                           0             0  \n",
       "1                           0             0  \n",
       "2                           0             0  \n",
       "3                           0             0  \n",
       "4                           0             0  \n",
       "\n",
       "[5 rows x 93 columns]"
      ]
     },
     "execution_count": 29,
     "metadata": {},
     "output_type": "execute_result"
    }
   ],
   "source": [
    "# Setting data up\n",
    "df_census = pd.read_csv('census_cleaned.csv')\n",
    "df_census.head()"
   ]
  },
  {
   "cell_type": "code",
   "execution_count": 30,
   "id": "9bb67e32-3fdd-40d3-9bff-c6ab83cf556f",
   "metadata": {},
   "outputs": [],
   "source": [
    "# Setting Predictors & Target\n",
    "X_census = df_census.iloc[:, :-1]\n",
    "y_census = df_census.iloc[:, -1]"
   ]
  },
  {
   "cell_type": "code",
   "execution_count": 31,
   "id": "1c81fa43-4c67-4fa2-a183-7e2804911994",
   "metadata": {},
   "outputs": [],
   "source": [
    "# A classification function:\n",
    "def classification_model(model):\n",
    "    scores = cross_val_score(model, X_census, y_census, scoring='accuracy', cv=kfold)\n",
    "    return scores.mean()"
   ]
  },
  {
   "cell_type": "code",
   "execution_count": null,
   "id": "5c673ea7-8e12-4aa3-9055-90ff7e8557ef",
   "metadata": {},
   "outputs": [],
   "source": [
    "classification_model(XGBClassifier(booster='', ))"
   ]
  },
  {
   "cell_type": "code",
   "execution_count": 33,
   "id": "b65dd876-a017-43c9-a5fd-76f632b6f6c9",
   "metadata": {},
   "outputs": [
    {
     "data": {
      "text/plain": [
       "0.8706121776481058"
      ]
     },
     "execution_count": 33,
     "metadata": {},
     "output_type": "execute_result"
    }
   ],
   "source": [
    "# Using 'gbtree'\n",
    "classification_model(XGBClassifier(booster='gbtree'))"
   ]
  },
  {
   "cell_type": "code",
   "execution_count": 35,
   "id": "b48b65b8-54ca-408a-a93c-b19631d9c1f5",
   "metadata": {},
   "outputs": [
    {
     "data": {
      "text/plain": [
       "0.8706121776481058"
      ]
     },
     "execution_count": 35,
     "metadata": {},
     "output_type": "execute_result"
    }
   ],
   "source": [
    "# Using 'DART'\n",
    "classification_model(XGBClassifier(booster='dart'))"
   ]
  },
  {
   "cell_type": "code",
   "execution_count": 36,
   "id": "b872d96c-27ff-4c2a-ad51-078c18c949e7",
   "metadata": {},
   "outputs": [
    {
     "data": {
      "text/plain": [
       "0.8501275562652808"
      ]
     },
     "execution_count": 36,
     "metadata": {},
     "output_type": "execute_result"
    }
   ],
   "source": [
    "# Using 'gblinear'\n",
    "classification_model(XGBClassifier(booster='gblinear'))"
   ]
  },
  {
   "cell_type": "code",
   "execution_count": 37,
   "id": "75bba235-5fbf-48c2-88f4-4f997cacc8af",
   "metadata": {},
   "outputs": [
    {
     "data": {
      "text/plain": [
       "0.833021841405075"
      ]
     },
     "execution_count": 37,
     "metadata": {},
     "output_type": "execute_result"
    }
   ],
   "source": [
    "# Using 'Logistic Regression'\n",
    "classification_model(LogisticRegression(max_iter=1000))"
   ]
  },
  {
   "cell_type": "markdown",
   "id": "29b9086b-4ce2-4fba-b515-4ee06dab4ffa",
   "metadata": {},
   "source": [
    "#### Modifying DART Hyperparameters"
   ]
  },
  {
   "cell_type": "code",
   "execution_count": 38,
   "id": "fff8f69d-ade0-4441-a059-3a7d4e6ce018",
   "metadata": {},
   "outputs": [
    {
     "data": {
      "text/plain": [
       "0.8725471189543047"
      ]
     },
     "execution_count": 38,
     "metadata": {},
     "output_type": "execute_result"
    }
   ],
   "source": [
    "# Using 'one_drop' parameter\n",
    "classification_model(XGBClassifier(booster='dart', one_drop=1))"
   ]
  },
  {
   "cell_type": "code",
   "execution_count": 39,
   "id": "ce5a0651-0e6d-4e52-9791-9fea738405c7",
   "metadata": {},
   "outputs": [
    {
     "data": {
      "text/plain": [
       "66.82050720095658"
      ]
     },
     "execution_count": 39,
     "metadata": {},
     "output_type": "execute_result"
    }
   ],
   "source": [
    "# On Diabetes dataset:\n",
    "regression_model(XGBRegressor(booster='dart', objetive='reg:squarederror', sample_type='weighted'))"
   ]
  },
  {
   "cell_type": "code",
   "execution_count": 40,
   "id": "bc8dc8eb-eff4-4421-90a6-65c68aa96ffb",
   "metadata": {},
   "outputs": [
    {
     "data": {
      "text/plain": [
       "66.82050720095658"
      ]
     },
     "execution_count": 40,
     "metadata": {},
     "output_type": "execute_result"
    }
   ],
   "source": [
    "# On Diabetes dataset - normalize_type:\n",
    "regression_model(XGBRegressor(booster='dart', objetive='reg:squarederror', normalize_type='forest'))"
   ]
  },
  {
   "cell_type": "code",
   "execution_count": 41,
   "id": "87ca23a9-b079-4e2f-8172-bb2d2e03db59",
   "metadata": {},
   "outputs": [
    {
     "data": {
      "text/plain": [
       "65.07987076021041"
      ]
     },
     "execution_count": 41,
     "metadata": {},
     "output_type": "execute_result"
    }
   ],
   "source": [
    "# On Diabetes dataset - normalize_type:\n",
    "regression_model(XGBRegressor(booster='dart', objetive='reg:squarederror', one_drop=1))"
   ]
  },
  {
   "cell_type": "code",
   "execution_count": 42,
   "id": "62a400c0-a5cb-4d48-8219-13fffac8270d",
   "metadata": {},
   "outputs": [
    {
     "name": "stdout",
     "output_type": "stream",
     "text": [
      "Best params:  {'rate_drop': 0.1}\n",
      "Best score:  63.33053166103637\n"
     ]
    }
   ],
   "source": [
    "# Checking on 'rate_drop':\n",
    "grid_search(params={'rate_drop': [0.01, 0.1, 0.2, 0.4]}, reg=XGBRegressor(booster='dart', objetive='reg:squarederror', one_drop=1))"
   ]
  },
  {
   "cell_type": "code",
   "execution_count": 43,
   "id": "65912012-8d26-4f26-970b-d00600b4b36a",
   "metadata": {},
   "outputs": [
    {
     "name": "stdout",
     "output_type": "stream",
     "text": [
      "Best params:  {'skip_drop': 0.01}\n",
      "Best score:  66.86765429925147\n"
     ]
    }
   ],
   "source": [
    "# Checking on 'skip_drop':\n",
    "grid_search(params={'skip_drop': [0.01, 0.1, 0.2, 0.4]}, reg=XGBRegressor(booster='dart', objetive='reg:squarederror'))"
   ]
  },
  {
   "cell_type": "code",
   "execution_count": 44,
   "id": "6707b7a8-1abe-4890-a3a9-efb8dd404bef",
   "metadata": {},
   "outputs": [],
   "source": [
    "# Checking on '':\n",
    "# grid_search(params={'': []})"
   ]
  },
  {
   "cell_type": "markdown",
   "id": "71c01bf7-fc3f-447c-8b12-14544da55fd7",
   "metadata": {},
   "source": [
    "## Finding XGBoost Random Forest\n",
    "\n",
    "#### As base learner"
   ]
  },
  {
   "cell_type": "code",
   "execution_count": 45,
   "id": "e04dc62d-1e33-465f-84b3-6523c91aea87",
   "metadata": {},
   "outputs": [
    {
     "data": {
      "text/plain": [
       "66.73225316649118"
      ]
     },
     "execution_count": 45,
     "metadata": {},
     "output_type": "execute_result"
    }
   ],
   "source": [
    "# checking on 25 parallel tree:\n",
    "regression_model(XGBRegressor(booster='gbtree', objetive='reg:squarederror', num_parallel_tree=25))"
   ]
  },
  {
   "cell_type": "code",
   "execution_count": 46,
   "id": "5855da7a-cd3f-4a12-af9b-bd8c8b5d52d9",
   "metadata": {},
   "outputs": [
    {
     "data": {
      "text/plain": [
       "66.80212003856249"
      ]
     },
     "execution_count": 46,
     "metadata": {},
     "output_type": "execute_result"
    }
   ],
   "source": [
    "# checking on 5 parallel tree:\n",
    "regression_model(XGBRegressor(booster='gbtree', objetive='reg:squarederror', num_parallel_tree=5))"
   ]
  },
  {
   "cell_type": "markdown",
   "id": "b6a62ee2-805b-4cb6-a7bd-b93d8e5532a0",
   "metadata": {},
   "source": [
    "#### Random Forest as XGBoost Models"
   ]
  },
  {
   "cell_type": "code",
   "execution_count": 47,
   "id": "b84b6c57-6454-4494-8fb9-722757ec9d34",
   "metadata": {},
   "outputs": [
    {
     "data": {
      "text/plain": [
       "59.768436395297364"
      ]
     },
     "execution_count": 47,
     "metadata": {},
     "output_type": "execute_result"
    }
   ],
   "source": [
    "# Random Forest Regressor on XGB:\n",
    "regression_model(XGBRFRegressor(objetive='reg:squarederror'))"
   ]
  },
  {
   "cell_type": "code",
   "execution_count": 48,
   "id": "c1fb730f-e091-430b-ac51-f2c02d427d2c",
   "metadata": {},
   "outputs": [
    {
     "data": {
      "text/plain": [
       "59.44526192030271"
      ]
     },
     "execution_count": 48,
     "metadata": {},
     "output_type": "execute_result"
    }
   ],
   "source": [
    "# On R.F Regressor:\n",
    "regression_model(RandomForestRegressor())"
   ]
  },
  {
   "cell_type": "code",
   "execution_count": 53,
   "id": "7b5c8aca-f459-4044-a303-28da41e90ab6",
   "metadata": {},
   "outputs": [
    {
     "data": {
      "text/plain": [
       "0.8555328249190526"
      ]
     },
     "execution_count": 53,
     "metadata": {},
     "output_type": "execute_result"
    }
   ],
   "source": [
    "# Using 'XGBRFClassifier'\n",
    "classification_model(XGBRFClassifier())"
   ]
  },
  {
   "cell_type": "code",
   "execution_count": 52,
   "id": "27cff58f-e2d5-4498-b016-bad6b3b5e7c8",
   "metadata": {},
   "outputs": [
    {
     "data": {
      "text/plain": [
       "0.8563313082774162"
      ]
     },
     "execution_count": 52,
     "metadata": {},
     "output_type": "execute_result"
    }
   ],
   "source": [
    "classification_model(RandomForestClassifier())"
   ]
  },
  {
   "cell_type": "code",
   "execution_count": null,
   "id": "e06a2754-c406-4f98-9fe2-d923b03c1902",
   "metadata": {},
   "outputs": [],
   "source": []
  }
 ],
 "metadata": {
  "kernelspec": {
   "display_name": "Python 3 (ipykernel)",
   "language": "python",
   "name": "python3"
  },
  "language_info": {
   "codemirror_mode": {
    "name": "ipython",
    "version": 3
   },
   "file_extension": ".py",
   "mimetype": "text/x-python",
   "name": "python",
   "nbconvert_exporter": "python",
   "pygments_lexer": "ipython3",
   "version": "3.11.7"
  }
 },
 "nbformat": 4,
 "nbformat_minor": 5
}
