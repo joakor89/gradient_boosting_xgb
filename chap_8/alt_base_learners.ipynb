{
 "cells": [
  {
   "cell_type": "markdown",
   "id": "eb44c86b-4d9b-4187-99d1-baeb34a0353f",
   "metadata": {},
   "source": [
    "# XGBoost Alternative Base Learners\n",
    "\n",
    "#### Loading Libraries"
   ]
  },
  {
   "cell_type": "code",
   "execution_count": 5,
   "id": "0c7990cb-11f1-4b93-9888-b1840e0a459e",
   "metadata": {},
   "outputs": [],
   "source": [
    "# Numerical Computing\n",
    "import numpy as np\n",
    "# Data Manipulation\n",
    "import pandas as pd\n",
    "# Data Visualization\n",
    "import matplotlib\n",
    "import matplotlib.pyplot as plt\n",
    "import seaborn as sns\n",
    "# DateTime Library\n",
    "import datetime as dt\n",
    "\n",
    "# Machine Learning Libraries\n",
    "from sklearn.model_selection import train_test_split, RandomizedSearchCV, GridSearchCV, cross_val_score, StratifiedKFold, KFold\n",
    "from sklearn.linear_model import LinearRegression, LogisticRegression, Lasso, Ridge\n",
    "from sklearn.tree import DecisionTreeClassifier\n",
    "from sklearn.tree import DecisionTreeRegressor\n",
    "from sklearn.ensemble import RandomForestRegressor, RandomForestClassifier\n",
    "from sklearn.ensemble import GradientBoostingRegressor\n",
    "from sklearn.ensemble import GradientBoostingClassifier\n",
    "\n",
    "# Datasets\n",
    "from sklearn import datasets\n",
    "from sklearn.datasets import load_diabetes\n",
    "\n",
    "# Model Metrics\n",
    "from sklearn.metrics import mean_squared_error as MSE, accuracy_score, confusion_matrix, classification_report, recall_score\n",
    "\n",
    "#Extreme Gradient Boosting\n",
    "from xgboost import XGBRegressor, XGBRFRegressor\n",
    "from xgboost import XGBClassifier, XGBRFClassifier\n",
    "\n",
    "# Warnings\n",
    "import warnings\n",
    "\n",
    "# Timing\n",
    "import time"
   ]
  },
  {
   "cell_type": "code",
   "execution_count": 6,
   "id": "75aafffc-59d7-44d4-8a96-88246389a89d",
   "metadata": {},
   "outputs": [],
   "source": [
    "warnings.filterwarnings('ignore')"
   ]
  },
  {
   "cell_type": "markdown",
   "id": "d062a9c1-3748-499a-8eeb-ca757dde88ba",
   "metadata": {},
   "source": [
    "### Applying gblinear\n",
    "\n",
    "#### Loading Diabetes Data"
   ]
  },
  {
   "cell_type": "code",
   "execution_count": 7,
   "id": "5c06b1c8-646d-42fd-b830-5d5914a59805",
   "metadata": {},
   "outputs": [],
   "source": [
    "# Assigning Target & Predictors\n",
    "X, y = load_diabetes(return_X_y=True)"
   ]
  },
  {
   "cell_type": "code",
   "execution_count": 8,
   "id": "8215913b-f2c4-45f2-8d57-f6d9c6e7d447",
   "metadata": {},
   "outputs": [],
   "source": [
    "# For consistent splits in data\n",
    "kfold = KFold(n_splits=5,\n",
    "              shuffle=True,\n",
    "              random_state=2)"
   ]
  },
  {
   "cell_type": "code",
   "execution_count": 9,
   "id": "fc686cfc-d98c-47ae-bfff-774508476c17",
   "metadata": {},
   "outputs": [],
   "source": [
    "# A function for Cross-Validation score:\n",
    "def regression_model(model):\n",
    "    scores = cross_val_score(model, X, y, scoring='neg_mean_squared_error', cv=kfold)\n",
    "    rmse = (-scores)**0.5\n",
    "    return rmse.mean()"
   ]
  },
  {
   "cell_type": "code",
   "execution_count": 15,
   "id": "8330c96e-e10f-4ed3-aa48-bc5634d2abbe",
   "metadata": {},
   "outputs": [
    {
     "data": {
      "text/plain": [
       "55.50365945475089"
      ]
     },
     "execution_count": 15,
     "metadata": {},
     "output_type": "execute_result"
    }
   ],
   "source": [
    "# Based on 'gblinear base'\n",
    "regression_model(XGBRegressor(booster='gblinear'))"
   ]
  },
  {
   "cell_type": "code",
   "execution_count": 16,
   "id": "98bc6169-26f8-4563-84ba-b598ef58df6f",
   "metadata": {},
   "outputs": [
    {
     "data": {
      "text/plain": [
       "55.50936875436023"
      ]
     },
     "execution_count": 16,
     "metadata": {},
     "output_type": "execute_result"
    }
   ],
   "source": [
    "# Checking on Absolute Value Regularization\n",
    "regression_model(LinearRegression())"
   ]
  },
  {
   "cell_type": "code",
   "execution_count": 17,
   "id": "2096b11b-ba71-4f68-9e1d-2e4b9b4d7a1f",
   "metadata": {},
   "outputs": [
    {
     "data": {
      "text/plain": [
       "62.64904114426349"
      ]
     },
     "execution_count": 17,
     "metadata": {},
     "output_type": "execute_result"
    }
   ],
   "source": [
    "# Checking on Lasso:\n",
    "regression_model(Lasso())"
   ]
  },
  {
   "cell_type": "code",
   "execution_count": 18,
   "id": "3a9b09e0-6cf5-46e8-8eeb-dc2514c8ba3c",
   "metadata": {},
   "outputs": [
    {
     "data": {
      "text/plain": [
       "58.835292374356676"
      ]
     },
     "execution_count": 18,
     "metadata": {},
     "output_type": "execute_result"
    }
   ],
   "source": [
    "# Checking on Ridge:\n",
    "regression_model(Ridge())"
   ]
  },
  {
   "cell_type": "code",
   "execution_count": 21,
   "id": "52d83986-571a-4a13-92fa-5652e3b2e02b",
   "metadata": {},
   "outputs": [
    {
     "data": {
      "text/plain": [
       "66.8205077933539"
      ]
     },
     "execution_count": 21,
     "metadata": {},
     "output_type": "execute_result"
    }
   ],
   "source": [
    "# Checking on 'gbtree base'\n",
    "regression_model(XGBRegressor(booster='gbtree'))"
   ]
  },
  {
   "cell_type": "markdown",
   "id": "dbde5f4b-c645-43e9-a5c8-33059d35103c",
   "metadata": {},
   "source": [
    "#### gblinear grid search"
   ]
  },
  {
   "cell_type": "code",
   "execution_count": 22,
   "id": "3e59b458-3d16-44fc-b939-1bccdb0e63ee",
   "metadata": {},
   "outputs": [],
   "source": [
    "# Setting a Grid-Search function\n",
    "def grid_search(params, reg=XGBRegressor(booster='gblinear')):\n",
    "    grid_reg = GridSearchCV(reg, params, scoring='neg_mean_squared_error', cv=kfold)\n",
    "    # Fitting Grid-Model\n",
    "    grid_reg.fit(X, y)\n",
    "    # Getting best params\n",
    "    best_params = grid_reg.best_params_\n",
    "    print(\"Best params: \", best_params)\n",
    "    # Getting best score\n",
    "    best_score = np.sqrt(-grid_reg.best_score_)\n",
    "    print('Best score: ', best_score)"
   ]
  },
  {
   "cell_type": "code",
   "execution_count": 23,
   "id": "9b318f8b-1f4a-41c6-8227-1d999c94b317",
   "metadata": {},
   "outputs": [
    {
     "name": "stdout",
     "output_type": "stream",
     "text": [
      "Best params:  {'reg_alpha': 0.001}\n",
      "Best score:  55.48890574749087\n"
     ]
    }
   ],
   "source": [
    "# Setting Alpha with standard range:\n",
    "grid_search(params={'reg_alpha': [0.001, 0.01, 0.1, 0.5, 1, 5]})"
   ]
  },
  {
   "cell_type": "code",
   "execution_count": 24,
   "id": "51c6a480-0335-4ace-991c-3e32ea4e58a7",
   "metadata": {},
   "outputs": [
    {
     "name": "stdout",
     "output_type": "stream",
     "text": [
      "Best params:  {'reg_lambda': 0.001}\n",
      "Best score:  56.17170025588034\n"
     ]
    }
   ],
   "source": [
    "# Setting reg_lambda\n",
    "grid_search(params={'reg_lambda': [0.001, 0.01, 0.1, 0.5, 1, 5]})"
   ]
  },
  {
   "cell_type": "code",
   "execution_count": 25,
   "id": "7898fa2e-151d-4db6-a1dc-b5ccd3360070",
   "metadata": {},
   "outputs": [
    {
     "name": "stdout",
     "output_type": "stream",
     "text": [
      "Best params:  {'feature_selector': 'shuffle'}\n",
      "Best score:  55.49607728794356\n"
     ]
    }
   ],
   "source": [
    "# Setting feature_selector with shuffle\n",
    "grid_search(params={'feature_selector': ['shuffle']})"
   ]
  },
  {
   "cell_type": "code",
   "execution_count": 27,
   "id": "f4cd4ba6-6ef2-4695-a8ad-c3bce55963be",
   "metadata": {},
   "outputs": [
    {
     "name": "stdout",
     "output_type": "stream",
     "text": [
      "Best params:  {'feature_selector': 'thrifty', 'updater': 'coord_descent'}\n",
      "Best score:  55.48980199825518\n"
     ]
    }
   ],
   "source": [
    "# Setting feature_selector with random, greedy & thrifty with updater\n",
    "grid_search(params={'feature_selector': ['random', 'greedy', 'thrifty'], 'updater': ['coord_descent']})"
   ]
  },
  {
   "cell_type": "code",
   "execution_count": 28,
   "id": "bc732dea-7b8f-4619-9df6-137b3c7f33a4",
   "metadata": {},
   "outputs": [
    {
     "name": "stdout",
     "output_type": "stream",
     "text": [
      "Best params:  {'feature_selector': 'thrifty', 'top_k': 3, 'updater': 'coord_descent'}\n",
      "Best score:  55.47154721588882\n"
     ]
    }
   ],
   "source": [
    "# Checking on tok_k\n",
    "grid_search(params={'feature_selector': ['greedy', 'thrifty'], 'updater': ['coord_descent'], 'top_k': [3, 5, 7, 9]})"
   ]
  },
  {
   "cell_type": "markdown",
   "id": "cdea1021-a95c-42b2-97c0-7f366bc2ed85",
   "metadata": {},
   "source": [
    "#### Linear Datasets"
   ]
  },
  {
   "cell_type": "code",
   "execution_count": 30,
   "id": "17492a7c-bb5e-446c-beec-c439b5b2c02e",
   "metadata": {},
   "outputs": [],
   "source": [
    "X = np.arange(1, 100)"
   ]
  },
  {
   "cell_type": "code",
   "execution_count": 31,
   "id": "d8942073-3507-459f-a174-c7b92536d976",
   "metadata": {},
   "outputs": [],
   "source": [
    "np.random.seed(2)"
   ]
  },
  {
   "cell_type": "code",
   "execution_count": 32,
   "id": "f15a0e69-55b7-437e-8f77-48d98b3f4bcf",
   "metadata": {},
   "outputs": [],
   "source": [
    "y = []"
   ]
  },
  {
   "cell_type": "code",
   "execution_count": 33,
   "id": "f9cb4354-6766-494b-bebb-ce3337e9ae5e",
   "metadata": {},
   "outputs": [],
   "source": [
    "for i in X:\n",
    "    y.append(i * np.random.uniform(-0.2, 0.2))"
   ]
  },
  {
   "cell_type": "code",
   "execution_count": 35,
   "id": "ae7d00a4-5b64-49d5-ae1d-c15d7e7a6973",
   "metadata": {},
   "outputs": [],
   "source": [
    "# Transforming into numpy array fore M.L purpose:\n",
    "y = np.array(y)"
   ]
  },
  {
   "cell_type": "code",
   "execution_count": 36,
   "id": "73797b9a-55c0-45db-bfbe-6b25cb4a6428",
   "metadata": {},
   "outputs": [],
   "source": [
    "X = X.reshape(X.shape[0], 1)\n",
    "y = y.reshape(y.shape[0], 1)"
   ]
  },
  {
   "cell_type": "code",
   "execution_count": 37,
   "id": "0d347faf-73d3-4dea-9df2-f34061b9df07",
   "metadata": {},
   "outputs": [
    {
     "data": {
      "text/plain": [
       "6.214942988206784"
      ]
     },
     "execution_count": 37,
     "metadata": {},
     "output_type": "execute_result"
    }
   ],
   "source": [
    "# Running a regression model on 'gblinear':\n",
    "regression_model(XGBRegressor(booster='gblinear', objetive='reg:squarederror'))"
   ]
  },
  {
   "cell_type": "code",
   "execution_count": 38,
   "id": "e7c9ad9a-0616-4738-a851-94488da38a88",
   "metadata": {},
   "outputs": [
    {
     "data": {
      "text/plain": [
       "9.320187242566508"
      ]
     },
     "execution_count": 38,
     "metadata": {},
     "output_type": "execute_result"
    }
   ],
   "source": [
    "# Now, running a regression model on 'gbtree':\n",
    "regression_model(XGBRegressor(booster='gbtree', objetive='reg:squarederror'))"
   ]
  },
  {
   "cell_type": "code",
   "execution_count": 40,
   "id": "dd7c421b-d492-462a-88b6-225c91db214f",
   "metadata": {},
   "outputs": [
    {
     "data": {
      "text/plain": [
       "6.214962315808842"
      ]
     },
     "execution_count": 40,
     "metadata": {},
     "output_type": "execute_result"
    }
   ],
   "source": [
    "# Running on standard Linear regression model:\n",
    "regression_model(LinearRegression())"
   ]
  },
  {
   "cell_type": "markdown",
   "id": "16622be4-b45c-4775-8730-1ff5be650497",
   "metadata": {},
   "source": [
    "## Comparing DART\n",
    "\n",
    "#### DART with XGBRegressor"
   ]
  },
  {
   "cell_type": "code",
   "execution_count": null,
   "id": "5de21fca-5362-4604-bbdf-57a5153ee841",
   "metadata": {},
   "outputs": [],
   "source": []
  }
 ],
 "metadata": {
  "kernelspec": {
   "display_name": "Python 3 (ipykernel)",
   "language": "python",
   "name": "python3"
  },
  "language_info": {
   "codemirror_mode": {
    "name": "ipython",
    "version": 3
   },
   "file_extension": ".py",
   "mimetype": "text/x-python",
   "name": "python",
   "nbconvert_exporter": "python",
   "pygments_lexer": "ipython3",
   "version": "3.11.7"
  }
 },
 "nbformat": 4,
 "nbformat_minor": 5
}
