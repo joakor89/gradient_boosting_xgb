{
 "cells": [
  {
   "cell_type": "markdown",
   "id": "f9e37d56-5b12-44dd-be1b-056c34268a65",
   "metadata": {},
   "source": [
    "# XGBoost Kaggle Masters\n",
    "\n",
    "# Loading Libraries"
   ]
  },
  {
   "cell_type": "code",
   "execution_count": 1,
   "id": "14052c49-6dfa-4e2a-8b2d-ff0988540d64",
   "metadata": {},
   "outputs": [],
   "source": [
    "# Numerical Computing\n",
    "import numpy as np\n",
    "# Data Manipulation\n",
    "import pandas as pd\n",
    "# Data Visualization\n",
    "import matplotlib\n",
    "import matplotlib.pyplot as plt\n",
    "import seaborn as sns\n",
    "# DateTime Library\n",
    "import datetime as dt\n",
    "\n",
    "# Machine Learning Libraries\n",
    "from sklearn.model_selection import train_test_split, RandomizedSearchCV, GridSearchCV, cross_val_score, StratifiedKFold, KFold\n",
    "from sklearn.linear_model import LinearRegression, LogisticRegression, Lasso, Ridge\n",
    "from sklearn.tree import DecisionTreeClassifier\n",
    "from sklearn.tree import DecisionTreeRegressor\n",
    "from sklearn.ensemble import RandomForestRegressor, RandomForestClassifier\n",
    "from sklearn.ensemble import GradientBoostingRegressor\n",
    "from sklearn.ensemble import GradientBoostingClassifier\n",
    "\n",
    "# Datasets\n",
    "from sklearn import datasets\n",
    "from sklearn.datasets import load_diabetes\n",
    "\n",
    "# Model Metrics\n",
    "from sklearn.metrics import mean_squared_error as MSE, accuracy_score, confusion_matrix, classification_report, recall_score\n",
    "\n",
    "#Extreme Gradient Boosting\n",
    "from xgboost import XGBRegressor, XGBRFRegressor\n",
    "from xgboost import XGBClassifier, XGBRFClassifier\n",
    "\n",
    "# Warnings\n",
    "import warnings\n",
    "\n",
    "# Timing\n",
    "import time"
   ]
  },
  {
   "cell_type": "code",
   "execution_count": null,
   "id": "ff795687-d18d-44ab-b69a-2a6ebf0ff38d",
   "metadata": {},
   "outputs": [],
   "source": []
  }
 ],
 "metadata": {
  "kernelspec": {
   "display_name": "Python 3 (ipykernel)",
   "language": "python",
   "name": "python3"
  },
  "language_info": {
   "codemirror_mode": {
    "name": "ipython",
    "version": 3
   },
   "file_extension": ".py",
   "mimetype": "text/x-python",
   "name": "python",
   "nbconvert_exporter": "python",
   "pygments_lexer": "ipython3",
   "version": "3.11.7"
  }
 },
 "nbformat": 4,
 "nbformat_minor": 5
}
